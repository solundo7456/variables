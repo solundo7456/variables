{
  "cells": [
    {
      "cell_type": "markdown",
      "metadata": {
        "id": "view-in-github",
        "colab_type": "text"
      },
      "source": [
        "<a href=\"https://colab.research.google.com/github/solundo7456/variables/blob/main/variables.ipynb\" target=\"_parent\"><img src=\"https://colab.research.google.com/assets/colab-badge.svg\" alt=\"Open In Colab\"/></a>"
      ]
    },
    {
      "cell_type": "code",
      "execution_count": null,
      "metadata": {
        "id": "cRiC7NnFYKZ3"
      },
      "outputs": [],
      "source": []
    },
    {
      "cell_type": "markdown",
      "metadata": {
        "id": "71JKrt6Hc73y"
      },
      "source": [
        "# INTRODUCTION\n"
      ]
    },
    {
      "cell_type": "code",
      "execution_count": null,
      "metadata": {
        "colab": {
          "base_uri": "https://localhost:8080/"
        },
        "id": "8pzn1fvgdg7l",
        "outputId": "a22a5061-577b-42fd-8ed6-5fc0b0f64a39"
      },
      "outputs": [
        {
          "data": {
            "text/plain": [
              "30"
            ]
          },
          "execution_count": 1,
          "metadata": {},
          "output_type": "execute_result"
        }
      ],
      "source": [
        "10+ 20"
      ]
    },
    {
      "cell_type": "code",
      "execution_count": null,
      "metadata": {
        "colab": {
          "base_uri": "https://localhost:8080/"
        },
        "id": "8QjO0PSbdoBs",
        "outputId": "daa5e2ba-aaee-403e-de13-7f277b341a1f"
      },
      "outputs": [
        {
          "data": {
            "text/plain": [
              "73"
            ]
          },
          "execution_count": 2,
          "metadata": {},
          "output_type": "execute_result"
        }
      ],
      "source": [
        "70+3"
      ]
    },
    {
      "cell_type": "code",
      "execution_count": null,
      "metadata": {
        "colab": {
          "base_uri": "https://localhost:8080/"
        },
        "id": "a3LqY5B1duBH",
        "outputId": "93966f41-f475-4fb0-e168-3ed5b0e97fda"
      },
      "outputs": [
        {
          "name": "stdout",
          "output_type": "stream",
          "text": [
            "hello\n"
          ]
        }
      ],
      "source": [
        "print('hello')"
      ]
    },
    {
      "cell_type": "code",
      "execution_count": null,
      "metadata": {
        "colab": {
          "base_uri": "https://localhost:8080/"
        },
        "id": "hKMUTBcdeUis",
        "outputId": "35b478a6-9868-4d5a-a324-5750722b4b15"
      },
      "outputs": [
        {
          "name": "stdout",
          "output_type": "stream",
          "text": [
            "hello. \n",
            " Am Annah Ndono\n"
          ]
        }
      ],
      "source": [
        "print ('hello. \\n Am Annah Ndono')"
      ]
    },
    {
      "cell_type": "code",
      "execution_count": null,
      "metadata": {
        "colab": {
          "base_uri": "https://localhost:8080/"
        },
        "id": "bHrQ85FnfL-M",
        "outputId": "d8f3415c-8ba8-48b8-fd53-ff086c29429d"
      },
      "outputs": [
        {
          "name": "stdout",
          "output_type": "stream",
          "text": [
            "Annah \n",
            " Ndono\n"
          ]
        }
      ],
      "source": [
        "print('Annah \\n Ndono')"
      ]
    },
    {
      "cell_type": "code",
      "execution_count": null,
      "metadata": {
        "colab": {
          "base_uri": "https://localhost:8080/"
        },
        "id": "DAJM4EyTfdJX",
        "outputId": "8e99c2f7-8ab9-4f82-fd28-1d9204ef6bde"
      },
      "outputs": [
        {
          "name": "stdout",
          "output_type": "stream",
          "text": [
            "core values \n",
            "   intergity \n",
            "   excellence and profecimalism \n",
            "   partiotism\n"
          ]
        }
      ],
      "source": [
        "print ('core values \\n   intergity \\n   excellence and profecimalism \\n   partiotism')"
      ]
    },
    {
      "cell_type": "code",
      "execution_count": null,
      "metadata": {
        "colab": {
          "base_uri": "https://localhost:8080/"
        },
        "id": "4WdzzOXHhEi9",
        "outputId": "d8b7509d-8ec3-4989-8479-52a46da3f734"
      },
      "outputs": [
        {
          "name": "stdout",
          "output_type": "stream",
          "text": [
            "22\n",
            "Annah\n"
          ]
        }
      ],
      "source": [
        "age=22\n",
        "print(age)\n",
        "name='Annah'\n",
        "print(name)"
      ]
    },
    {
      "cell_type": "code",
      "execution_count": null,
      "metadata": {
        "colab": {
          "base_uri": "https://localhost:8080/"
        },
        "id": "ouFYMnj4ifMC",
        "outputId": "68db84e6-82cd-4252-ad76-8dc79cf41df4"
      },
      "outputs": [
        {
          "name": "stdout",
          "output_type": "stream",
          "text": [
            "Ndono\n",
            "female\n",
            "5.8\n"
          ]
        }
      ],
      "source": [
        "name='Ndono'\n",
        "gender= 'female'\n",
        "height=5.8\n",
        "print(  name)\n",
        "print(  gender)\n",
        "print(height)"
      ]
    },
    {
      "cell_type": "code",
      "execution_count": null,
      "metadata": {
        "id": "Rg6n86oilyzj"
      },
      "outputs": [],
      "source": []
    },
    {
      "cell_type": "markdown",
      "metadata": {
        "id": "YpCNdXbvjDVe"
      },
      "source": []
    },
    {
      "cell_type": "code",
      "execution_count": null,
      "metadata": {
        "colab": {
          "base_uri": "https://localhost:8080/"
        },
        "id": "lJVDGBLXjEEC",
        "outputId": "e97a152c-1bf8-4d04-ec05-334df8a7977a"
      },
      "outputs": [
        {
          "name": "stdout",
          "output_type": "stream",
          "text": [
            "Ndono female 5.8\n"
          ]
        }
      ],
      "source": [
        "name='Ndono'\n",
        "gender= 'female'\n",
        "height=5.8\n",
        "print(name,gender,height)\n"
      ]
    },
    {
      "cell_type": "code",
      "execution_count": null,
      "metadata": {
        "colab": {
          "base_uri": "https://localhost:8080/"
        },
        "id": "BiRAaCMFl2QQ",
        "outputId": "8ca02010-07d9-4c3d-dea9-218e1d14542d"
      },
      "outputs": [
        {
          "name": "stdout",
          "output_type": "stream",
          "text": [
            "8\n"
          ]
        }
      ],
      "source": [
        "x=5+3\n",
        "print(x)"
      ]
    },
    {
      "cell_type": "code",
      "execution_count": null,
      "metadata": {
        "colab": {
          "base_uri": "https://localhost:8080/"
        },
        "id": "zLqq9IOSl9CZ",
        "outputId": "a89645b0-fbbc-4b15-f71a-dc19fb1ec435"
      },
      "outputs": [
        {
          "name": "stdout",
          "output_type": "stream",
          "text": [
            "24\n"
          ]
        }
      ],
      "source": [
        "z=4*6\n",
        "print(z)"
      ]
    },
    {
      "cell_type": "code",
      "execution_count": null,
      "metadata": {
        "colab": {
          "base_uri": "https://localhost:8080/"
        },
        "id": "2bzgYeSjmEPU",
        "outputId": "039cf5bf-ffaa-4761-eb98-9bfe639cd3e9"
      },
      "outputs": [
        {
          "name": "stdout",
          "output_type": "stream",
          "text": [
            "4.0\n"
          ]
        }
      ],
      "source": [
        "a=12/3\n",
        "print(a)\n"
      ]
    },
    {
      "cell_type": "code",
      "execution_count": null,
      "metadata": {
        "colab": {
          "base_uri": "https://localhost:8080/"
        },
        "id": "HAMgbQUymO5a",
        "outputId": "f5032d64-0623-488b-cd3d-a05d995450f1"
      },
      "outputs": [
        {
          "name": "stdout",
          "output_type": "stream",
          "text": [
            "4.0 24 8\n"
          ]
        }
      ],
      "source": [
        "print (a,z,x)"
      ]
    },
    {
      "cell_type": "code",
      "execution_count": null,
      "metadata": {
        "colab": {
          "base_uri": "https://localhost:8080/"
        },
        "id": "CA6aqDtcmUh5",
        "outputId": "66118dc7-23f5-4462-9f49-ecd23e07eb8e"
      },
      "outputs": [
        {
          "data": {
            "text/plain": [
              "0"
            ]
          },
          "execution_count": 19,
          "metadata": {},
          "output_type": "execute_result"
        }
      ],
      "source": [
        "2//3\n"
      ]
    },
    {
      "cell_type": "code",
      "execution_count": null,
      "metadata": {
        "colab": {
          "base_uri": "https://localhost:8080/"
        },
        "id": "2UYTDItkoIeb",
        "outputId": "f5506e18-b536-468d-9421-0269e6d7da06"
      },
      "outputs": [
        {
          "name": "stdout",
          "output_type": "stream",
          "text": [
            "True\n",
            "True\n",
            "True\n"
          ]
        }
      ],
      "source": [
        "print (7==7)\n",
        "print (7>1)\n",
        "print(7!=6)"
      ]
    },
    {
      "cell_type": "code",
      "execution_count": null,
      "metadata": {
        "colab": {
          "base_uri": "https://localhost:8080/"
        },
        "id": "qNpkZ1hJogOP",
        "outputId": "cbe5bd5a-7a68-4393-b293-b4d7705ba7ba"
      },
      "outputs": [
        {
          "name": "stdout",
          "output_type": "stream",
          "text": [
            "False\n"
          ]
        }
      ],
      "source": [
        "k=(2>5) and (3<5)\n",
        "print(k)"
      ]
    },
    {
      "cell_type": "code",
      "execution_count": null,
      "metadata": {
        "colab": {
          "base_uri": "https://localhost:8080/"
        },
        "id": "oUVgc8fco6k9",
        "outputId": "97ebab1f-dc03-4f66-bf30-df89c33c2755"
      },
      "outputs": [
        {
          "name": "stdout",
          "output_type": "stream",
          "text": [
            "True\n"
          ]
        }
      ],
      "source": [
        "i=(3!=2) or (3==2)\n",
        "print(i)\n"
      ]
    },
    {
      "cell_type": "code",
      "execution_count": null,
      "metadata": {
        "colab": {
          "base_uri": "https://localhost:8080/"
        },
        "id": "zv5DUZ5epHo4",
        "outputId": "72b720c6-6d84-4fa9-eabb-2304e2af74a9"
      },
      "outputs": [
        {
          "name": "stdout",
          "output_type": "stream",
          "text": [
            "True\n"
          ]
        }
      ],
      "source": [
        "n=not(9==2)\n",
        "print(n)\n"
      ]
    },
    {
      "cell_type": "code",
      "execution_count": null,
      "metadata": {
        "colab": {
          "base_uri": "https://localhost:8080/"
        },
        "id": "YizLT0Mcp3Un",
        "outputId": "6a8ab892-1264-4f68-dc56-1d9cbfbb3d04"
      },
      "outputs": [
        {
          "name": "stdout",
          "output_type": "stream",
          "text": [
            "6\n",
            "10\n"
          ]
        }
      ],
      "source": [
        "length=2\n",
        "width=3\n",
        "area= length*width\n",
        "perimeter= (length+width)*2\n",
        "print(area)\n",
        "print(perimeter)\n"
      ]
    },
    {
      "cell_type": "code",
      "execution_count": null,
      "metadata": {
        "colab": {
          "base_uri": "https://localhost:8080/"
        },
        "id": "SuZyZJ2CqZPd",
        "outputId": "bd76cadf-eaa4-4722-b279-6be7fac4622a"
      },
      "outputs": [
        {
          "name": "stdout",
          "output_type": "stream",
          "text": [
            "odd\n"
          ]
        }
      ],
      "source": [
        "n= 3\n",
        "\n",
        "if n%2==0:\n",
        "    print('even')\n",
        "else:\n",
        "    print('odd')"
      ]
    },
    {
      "cell_type": "code",
      "execution_count": null,
      "metadata": {
        "colab": {
          "base_uri": "https://localhost:8080/"
        },
        "id": "0RZUuNnkryAA",
        "outputId": "d452509e-dd70-43f0-8063-edfba4790eee"
      },
      "outputs": [
        {
          "name": "stdout",
          "output_type": "stream",
          "text": [
            "<class 'int'>\n"
          ]
        }
      ],
      "source": [
        "print(type(age))"
      ]
    },
    {
      "cell_type": "code",
      "execution_count": null,
      "metadata": {
        "colab": {
          "base_uri": "https://localhost:8080/"
        },
        "id": "pWbu855IsrKY",
        "outputId": "f6054e8f-a701-4d79-f13e-e24e2b5f1c1c"
      },
      "outputs": [
        {
          "name": "stdout",
          "output_type": "stream",
          "text": [
            "<class 'float'>\n"
          ]
        }
      ],
      "source": [
        "temp= 37.2\n",
        "print(type (temp))"
      ]
    },
    {
      "cell_type": "code",
      "execution_count": null,
      "metadata": {
        "colab": {
          "base_uri": "https://localhost:8080/"
        },
        "id": "GWMphowntNEY",
        "outputId": "e0a1130c-524d-4e96-dc30-dee2f772678c"
      },
      "outputs": [
        {
          "name": "stdout",
          "output_type": "stream",
          "text": [
            "Ndono\n"
          ]
        }
      ],
      "source": [
        "print(name)"
      ]
    },
    {
      "cell_type": "code",
      "execution_count": null,
      "metadata": {
        "colab": {
          "base_uri": "https://localhost:8080/"
        },
        "id": "EBjNo_aDtoOf",
        "outputId": "936e398b-336f-4045-e3b9-1479799e2441"
      },
      "outputs": [
        {
          "name": "stdout",
          "output_type": "stream",
          "text": [
            "True\n",
            "False\n"
          ]
        }
      ],
      "source": [
        "is_raining=True\n",
        "print(is_raining)\n",
        "is_sunny=False\n",
        "print(is_sunny)"
      ]
    },
    {
      "cell_type": "code",
      "execution_count": null,
      "metadata": {
        "colab": {
          "base_uri": "https://localhost:8080/"
        },
        "id": "zr5lyeCPutEW",
        "outputId": "8a29eb64-52cc-4690-91bc-9413caa25a07"
      },
      "outputs": [
        {
          "name": "stdout",
          "output_type": "stream",
          "text": [
            "['apple', 'banana', 'orange']\n",
            "banana\n",
            "['apple', 'kiwi', 'pineapple']\n"
          ]
        }
      ],
      "source": [
        "list_fruits=['apple','banana','orange']\n",
        "print(list_fruits)\n",
        "print (list_fruits[1])\n",
        "\n",
        "list_fruits.append('pineapple')\n",
        "list_fruits.insert(2,'kiwi')\n",
        "list_fruits.remove('orange')\n",
        "list_fruits.pop(1)\n",
        "print(list_fruits)"
      ]
    },
    {
      "cell_type": "code",
      "execution_count": null,
      "metadata": {
        "colab": {
          "base_uri": "https://localhost:8080/"
        },
        "id": "AFbZfJWdw7HO",
        "outputId": "98290f8d-1e4c-4bd1-c232-27d580534e6e"
      },
      "outputs": [
        {
          "name": "stdout",
          "output_type": "stream",
          "text": [
            "['apple', 'mango', 'pineapple', 'pineapple']\n",
            "['apple', 'mango', 'pineapple', 'pineapple', 'ova']\n"
          ]
        }
      ],
      "source": [
        "list_fruits[1]='mango'\n",
        "print(list_fruits)\n",
        "list_fruits.append('ova')\n",
        "print(list_fruits)\n"
      ]
    },
    {
      "cell_type": "code",
      "execution_count": null,
      "metadata": {
        "colab": {
          "base_uri": "https://localhost:8080/"
        },
        "id": "e_jNdWnkxKC4",
        "outputId": "b4b06613-fd7f-4d2d-a11a-08a680690514"
      },
      "outputs": [
        {
          "name": "stdout",
          "output_type": "stream",
          "text": [
            "['Annah', 'Alice']\n",
            "['Annah', 'Alice', 'wendy']\n"
          ]
        }
      ],
      "source": [
        "list_name= ['Annah', 'Alice']\n",
        "print(list_name)\n",
        "list_name.append('wendy')\n",
        "print(list_name)"
      ]
    },
    {
      "cell_type": "code",
      "execution_count": null,
      "metadata": {
        "colab": {
          "base_uri": "https://localhost:8080/"
        },
        "id": "fZSrZ_gZxvHf",
        "outputId": "b72c3622-58d5-4866-fd7c-e51d3a8c59bd"
      },
      "outputs": [
        {
          "name": "stdout",
          "output_type": "stream",
          "text": [
            "['Annah', 'wendy']\n"
          ]
        }
      ],
      "source": [
        "list_name.pop(1)\n",
        "print(list_name)"
      ]
    },
    {
      "cell_type": "code",
      "execution_count": null,
      "metadata": {
        "colab": {
          "base_uri": "https://localhost:8080/"
        },
        "id": "O7XM5YycyD0h",
        "outputId": "cc59a09f-2691-4dbf-8805-7d1c5f77fd21"
      },
      "outputs": [
        {
          "name": "stdout",
          "output_type": "stream",
          "text": [
            "['a', 'w', 'z']\n"
          ]
        }
      ],
      "source": [
        "my_list=['a','z','w']\n",
        "my_list.sort()\n",
        "print(my_list)"
      ]
    },
    {
      "cell_type": "code",
      "execution_count": null,
      "metadata": {
        "colab": {
          "base_uri": "https://localhost:8080/"
        },
        "id": "bixHww8IykPS",
        "outputId": "4c2ed7db-aed1-416f-e0e2-4b198ba8eb44"
      },
      "outputs": [
        {
          "name": "stdout",
          "output_type": "stream",
          "text": [
            "['a', 'w', 'z']\n"
          ]
        }
      ],
      "source": [
        "print(my_list)\n"
      ]
    },
    {
      "cell_type": "code",
      "execution_count": null,
      "metadata": {
        "colab": {
          "base_uri": "https://localhost:8080/"
        },
        "id": "RlZ1_-1Px4s7",
        "outputId": "45bdea8c-101b-4a89-cb57-ba275418154b"
      },
      "outputs": [
        {
          "name": "stdout",
          "output_type": "stream",
          "text": [
            "['apple', 'mango', 'ova', 'pineapple', 'pineapple']\n"
          ]
        }
      ],
      "source": [
        "list_fruits.sort()\n",
        "print(list_fruits)"
      ]
    },
    {
      "cell_type": "code",
      "execution_count": null,
      "metadata": {
        "colab": {
          "base_uri": "https://localhost:8080/"
        },
        "id": "PFaqPidYy6ER",
        "outputId": "efbc7009-f3f7-49a8-e2e3-a5598eb3c1de"
      },
      "outputs": [
        {
          "data": {
            "text/plain": [
              "1"
            ]
          },
          "execution_count": 54,
          "metadata": {},
          "output_type": "execute_result"
        }
      ],
      "source": [
        "list_fruits.count ('apple')"
      ]
    },
    {
      "cell_type": "code",
      "execution_count": null,
      "metadata": {
        "colab": {
          "base_uri": "https://localhost:8080/"
        },
        "id": "uicZVPsmzdn8",
        "outputId": "11433955-0e18-4e48-8962-042ac589bfab"
      },
      "outputs": [
        {
          "name": "stdout",
          "output_type": "stream",
          "text": [
            "{'name': 'ndono', 'age': 22, 'gender': 'FEMALE'}\n",
            "{'name': 'wendy', 'age': 22, 'gender': 'FEMALE'}\n"
          ]
        }
      ],
      "source": [
        "my_dict={'name':'ndono','age':22,'gender':'FEMALE'}\n",
        "my_dict2={'name':'wendy','age':22,'gender':'FEMALE'}\n",
        "print(my_dict)\n",
        "print(my_dict2)"
      ]
    },
    {
      "cell_type": "code",
      "execution_count": null,
      "metadata": {
        "colab": {
          "base_uri": "https://localhost:8080/"
        },
        "id": "afccobls0f47",
        "outputId": "5dacdb19-aa99-401e-f691-85caf591f1c5"
      },
      "outputs": [
        {
          "name": "stdout",
          "output_type": "stream",
          "text": [
            "dict_keys(['name', 'age', 'gender'])\n"
          ]
        }
      ],
      "source": [
        "print(my_dict.keys())"
      ]
    },
    {
      "cell_type": "code",
      "execution_count": null,
      "metadata": {
        "colab": {
          "base_uri": "https://localhost:8080/"
        },
        "id": "HUZ5mBCw0-Wt",
        "outputId": "96db7f8d-8083-4d07-f888-76459e7895dc"
      },
      "outputs": [
        {
          "name": "stdout",
          "output_type": "stream",
          "text": [
            "dict_values(['ndono', 22, 'FEMALE'])\n"
          ]
        }
      ],
      "source": [
        "print(my_dict.values())"
      ]
    },
    {
      "cell_type": "code",
      "execution_count": null,
      "metadata": {
        "colab": {
          "base_uri": "https://localhost:8080/"
        },
        "id": "_tnI823S1Saj",
        "outputId": "19b61983-3a69-4423-d458-5b530300c540"
      },
      "outputs": [
        {
          "name": "stdout",
          "output_type": "stream",
          "text": [
            "dict_items([('name', 'ndono'), ('age', 22), ('gender', 'FEMALE')])\n"
          ]
        }
      ],
      "source": [
        "print(my_dict.items(  ))"
      ]
    },
    {
      "cell_type": "code",
      "execution_count": null,
      "metadata": {
        "colab": {
          "base_uri": "https://localhost:8080/"
        },
        "id": "zZVsEZJ-1fRV",
        "outputId": "1eaab9d1-0d28-4fb7-dbf5-cac18d5c9e10"
      },
      "outputs": [
        {
          "name": "stdout",
          "output_type": "stream",
          "text": [
            "{2, 3, 4, 5, 98, 6, 9, 12}\n",
            "{5}\n",
            "{9, 2, 3, 4}\n"
          ]
        }
      ],
      "source": [
        "set1= {2,3,4,5,9}\n",
        "set2={5,6,98,12}\n",
        "print(set1.union(set2))\n",
        "print(set1.intersection(set2))\n",
        "print(set1.difference(set2))"
      ]
    },
    {
      "cell_type": "code",
      "execution_count": null,
      "metadata": {
        "colab": {
          "background_save": true,
          "base_uri": "https://localhost:8080/"
        },
        "id": "rj-ipHta_2I8",
        "outputId": "2fa38a72-feca-4fd8-c784-a699f1842e6f"
      },
      "outputs": [
        {
          "name": "stdout",
          "output_type": "stream",
          "text": [
            "['Kenya', 'Uganda']\n",
            "['Kenya', 'Uganda', 'Mexico']\n",
            "['Kenya', 'Uganda', 'Mexico', 'USA']\n",
            "['Uganda', 'Mexico', 'USA']\n",
            "['Uganda', 'USA']\n"
          ]
        },
        {
          "data": {
            "text/plain": [
              "0"
            ]
          },
          "execution_count": 3,
          "metadata": {},
          "output_type": "execute_result"
        }
      ],
      "source": [
        "country_list=['Kenya','Uganda']\n",
        "print ( country_list)\n",
        "country_list.append('Mexico')\n",
        "print ( country_list)\n",
        "country_list.insert(3,'USA')\n",
        "print ( country_list)\n",
        "country_list.remove('Kenya')\n",
        "print ( country_list)\n",
        "country_list.pop(1)\n",
        "print ( country_list)"
      ]
    }
  ],
  "metadata": {
    "colab": {
      "provenance": [],
      "authorship_tag": "ABX9TyNkGKf/djhxKByQFplTlNJn",
      "include_colab_link": true
    },
    "kernelspec": {
      "display_name": "Python 3",
      "name": "python3"
    },
    "language_info": {
      "name": "python"
    }
  },
  "nbformat": 4,
  "nbformat_minor": 0
}